{
 "cells": [
  {
   "cell_type": "code",
   "execution_count": 1,
   "metadata": {},
   "outputs": [],
   "source": [
    "import numpy as np\n",
    "import tensorflow as tf\n"
   ]
  },
  {
   "cell_type": "code",
   "execution_count": 2,
   "metadata": {},
   "outputs": [],
   "source": [
    "def load_embeddings(file_path):\n",
    "    # load pre-trained embeddings file\n",
    "    embeddings_index = {}\n",
    "    with open(file_path,'r', encoding='UTF-8') as f:\n",
    "        for line in f:\n",
    "            word, coefs = line.split(maxsplit=1)\n",
    "            coefs = np.fromstring(coefs, \"f\", sep=\" \")\n",
    "            embeddings_index[word] = coefs\n",
    "    return embeddings_index\n"
   ]
  },
  {
   "cell_type": "code",
   "execution_count": 18,
   "metadata": {},
   "outputs": [],
   "source": [
    "def load_images(file_path, batch_size = 32,img_height = 180,img_width = 180):\n",
    "    import pathlib\n",
    "    data_dir = pathlib.Path(file_path)\n",
    "    image_count = len(list(data_dir.glob('*/*.jpg')))\n",
    "    labels=[i+1 for i in range(image_count)]\n",
    "    train_ds = tf.keras.preprocessing.image_dataset_from_directory(data_dir, labels=labels, validation_split=0.2,subset=\"training\",seed=123,image_size=(img_height, img_width),batch_size=batch_size)\n",
    "    val_ds = tf.keras.preprocessing.image_dataset_from_directory(data_dir, labels=labels, validation_split=0.2,subset=\"validation\",seed=123,image_size=(img_height, img_width),batch_size=batch_size)\n",
    "    return train_ds, val_ds\n",
    "# def normalize_images(ds):\n",
    "#     normalization_layer = tf.keras.layers.experimental.preprocessing.Rescaling(1./255)\n",
    "#     normalized_ds = ds.map(lambda x, y: (normalization_layer(x), y))\n",
    "#     image_batch, labels_batch = next(iter(normalized_ds))\n"
   ]
  },
  {
   "cell_type": "code",
   "execution_count": 32,
   "metadata": {},
   "outputs": [],
   "source": [
    "def load_attributes(file_path):\n",
    "    with open(file_path,'r', encoding='UTF-8') as f:\n",
    "        image_count = int(f.readline())\n",
    "        raw_cats = f.readline().split()\n",
    "        attributes=np.zeros([image_count+1,len(raw_cats)])\n",
    "        cats = [s.lower().split('_') for s in raw_cats]\n",
    "        cats[0] = ['5', 'o\\'clock', 'shadow']\n",
    "        i=0\n",
    "        for line in f:\n",
    "            i+=1\n",
    "            image, labels = line.split(maxsplit=1)\n",
    "            labels = np.fromstring(labels, \"f\", sep=\" \")\n",
    "            attributes[i]=labels\n",
    "    return cats, attributes"
   ]
  },
  {
   "cell_type": "code",
   "execution_count": 33,
   "metadata": {},
   "outputs": [
    {
     "data": {
      "text/plain": [
       "([['5', \"o'clock\", 'shadow'],\n",
       "  ['arched', 'eyebrows'],\n",
       "  ['attractive'],\n",
       "  ['bags', 'under', 'eyes'],\n",
       "  ['bald'],\n",
       "  ['bangs'],\n",
       "  ['big', 'lips'],\n",
       "  ['big', 'nose'],\n",
       "  ['black', 'hair'],\n",
       "  ['blond', 'hair'],\n",
       "  ['blurry'],\n",
       "  ['brown', 'hair'],\n",
       "  ['bushy', 'eyebrows'],\n",
       "  ['chubby'],\n",
       "  ['double', 'chin'],\n",
       "  ['eyeglasses'],\n",
       "  ['goatee'],\n",
       "  ['gray', 'hair'],\n",
       "  ['heavy', 'makeup'],\n",
       "  ['high', 'cheekbones'],\n",
       "  ['male'],\n",
       "  ['mouth', 'slightly', 'open'],\n",
       "  ['mustache'],\n",
       "  ['narrow', 'eyes'],\n",
       "  ['no', 'beard'],\n",
       "  ['oval', 'face'],\n",
       "  ['pale', 'skin'],\n",
       "  ['pointy', 'nose'],\n",
       "  ['receding', 'hairline'],\n",
       "  ['rosy', 'cheeks'],\n",
       "  ['sideburns'],\n",
       "  ['smiling'],\n",
       "  ['straight', 'hair'],\n",
       "  ['wavy', 'hair'],\n",
       "  ['wearing', 'earrings'],\n",
       "  ['wearing', 'hat'],\n",
       "  ['wearing', 'lipstick'],\n",
       "  ['wearing', 'necklace'],\n",
       "  ['wearing', 'necktie'],\n",
       "  ['young']],\n",
       " array([[ 0.,  0.,  0., ...,  0.,  0.,  0.],\n",
       "        [-1.,  1.,  1., ..., -1., -1.,  1.],\n",
       "        [-1., -1., -1., ..., -1., -1.,  1.],\n",
       "        ...,\n",
       "        [-1., -1., -1., ..., -1., -1.,  1.],\n",
       "        [-1.,  1.,  1., ..., -1., -1.,  1.],\n",
       "        [-1.,  1.,  1., ..., -1., -1.,  1.]]))"
      ]
     },
     "execution_count": 33,
     "metadata": {},
     "output_type": "execute_result"
    }
   ],
   "source": []
  },
  {
   "cell_type": "code",
   "execution_count": 31,
   "metadata": {},
   "outputs": [
    {
     "ename": "KeyError",
     "evalue": "'oclock'",
     "output_type": "error",
     "traceback": [
      "\u001b[1;31m---------------------------------------------------------------------------\u001b[0m",
      "\u001b[1;31mKeyError\u001b[0m                                  Traceback (most recent call last)",
      "\u001b[1;32m<ipython-input-31-c8d2477e3bd0>\u001b[0m in \u001b[0;36m<module>\u001b[1;34m\u001b[0m\n\u001b[0;32m      1\u001b[0m \u001b[1;32mif\u001b[0m \u001b[0m__name__\u001b[0m \u001b[1;33m==\u001b[0m \u001b[1;34m'__main__'\u001b[0m\u001b[1;33m:\u001b[0m\u001b[1;33m\u001b[0m\u001b[1;33m\u001b[0m\u001b[0m\n\u001b[0;32m      2\u001b[0m     \u001b[0md\u001b[0m \u001b[1;33m=\u001b[0m \u001b[0mload_embeddings\u001b[0m\u001b[1;33m(\u001b[0m\u001b[1;34m\"/git-repos/latent-space-arithmetic/dataset/embedding/glove.6B.50d.txt\"\u001b[0m\u001b[1;33m)\u001b[0m\u001b[1;33m\u001b[0m\u001b[1;33m\u001b[0m\u001b[0m\n\u001b[1;32m----> 3\u001b[1;33m     \u001b[0mprint\u001b[0m\u001b[1;33m(\u001b[0m\u001b[0md\u001b[0m\u001b[1;33m[\u001b[0m\u001b[1;34m'oclock'\u001b[0m\u001b[1;33m]\u001b[0m\u001b[1;33m)\u001b[0m\u001b[1;33m\u001b[0m\u001b[1;33m\u001b[0m\u001b[0m\n\u001b[0m\u001b[0;32m      4\u001b[0m     \u001b[0mtrain_ds\u001b[0m\u001b[1;33m,\u001b[0m \u001b[0mval_ds\u001b[0m \u001b[1;33m=\u001b[0m \u001b[0mload_images\u001b[0m\u001b[1;33m(\u001b[0m\u001b[1;34m\"/git-repos/latent-space-arithmetic/dataset/\"\u001b[0m\u001b[1;33m)\u001b[0m\u001b[1;33m\u001b[0m\u001b[1;33m\u001b[0m\u001b[0m\n\u001b[0;32m      5\u001b[0m     \u001b[1;32mimport\u001b[0m \u001b[0mmatplotlib\u001b[0m\u001b[1;33m.\u001b[0m\u001b[0mpyplot\u001b[0m \u001b[1;32mas\u001b[0m \u001b[0mplt\u001b[0m\u001b[1;33m\u001b[0m\u001b[1;33m\u001b[0m\u001b[0m\n",
      "\u001b[1;31mKeyError\u001b[0m: 'oclock'"
     ]
    }
   ],
   "source": [
    "if __name__ == '__main__':\n",
    "    d = load_embeddings(\"/git-repos/latent-space-arithmetic/dataset/embedding/glove.6B.50d.txt\")\n",
    "    print(d['o'])\n",
    "    train_ds, val_ds = load_images(\"/git-repos/latent-space-arithmetic/dataset/\")\n",
    "    load_attributes(\"/git-repos/latent-space-arithmetic/dataset/Anno/list_attr_celeba.txt\")\n",
    "    import matplotlib.pyplot as plt\n",
    "\n",
    "    for images, labels in train_ds.take(1):\n",
    "        print(labels)\n",
    "        for i in range(9):\n",
    "            ax = plt.subplot(3, 3, i + 1)\n",
    "            plt.imshow(images[i].numpy().astype(\"uint8\"))\n",
    "            plt.axis(\"off\")\n"
   ]
  },
  {
   "cell_type": "code",
   "execution_count": null,
   "metadata": {},
   "outputs": [],
   "source": [
    "\n"
   ]
  },
  {
   "cell_type": "code",
   "execution_count": null,
   "metadata": {},
   "outputs": [],
   "source": []
  }
 ],
 "metadata": {
  "kernelspec": {
   "display_name": "Python 3",
   "language": "python",
   "name": "python3"
  },
  "language_info": {
   "codemirror_mode": {
    "name": "ipython",
    "version": 3
   },
   "file_extension": ".py",
   "mimetype": "text/x-python",
   "name": "python",
   "nbconvert_exporter": "python",
   "pygments_lexer": "ipython3",
   "version": "3.8.3"
  }
 },
 "nbformat": 4,
 "nbformat_minor": 4
}
